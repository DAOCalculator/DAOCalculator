{
 "cells": [
  {
   "cell_type": "markdown",
   "metadata": {},
   "source": [
    "# DAO Calculator\n",
    "Project the number of days it takes to reach 100 nodes. "
   ]
  },
  {
   "cell_type": "markdown",
   "metadata": {},
   "source": [
    "## Enter your parameters:\n",
    "Your current number of nodes.<br>\n",
    "Your current number of rewards.<br>\n",
    "The current trading price. (ex: 1.35)<br>\n",
    "The daily reward per node.<br>\n",
    "The cost of one node."
   ]
  },
  {
   "cell_type": "code",
   "execution_count": 1,
   "metadata": {},
   "outputs": [
    {
     "data": {
      "application/vnd.jupyter.widget-view+json": {
       "model_id": "2cf469996f8f4fa6b4226cec237b81d9",
       "version_major": 2,
       "version_minor": 0
      },
      "text/plain": [
       "Tab(children=(VBox(children=(FloatText(value=0.0, description='Nodes:'), FloatText(value=0.0, description='Use…"
      ]
     },
     "metadata": {},
     "output_type": "display_data"
    }
   ],
   "source": [
    "# Inputs and setup\n",
    "import ipywidgets  as widgets\n",
    "import voila\n",
    "import pandas as pd\n",
    "\n",
    "current_price = widgets.FloatText(value=0.00, description='Current Price:', disabled=False)\n",
    "current_nodes = widgets.FloatText(value=0, description='Nodes:', disabled=False)\n",
    "current_rewards = widgets.FloatText(value=0, description='User Rewards:', disabled=False)\n",
    "daily_rewards = widgets.FloatText(value=0, description='Daily Reward Amount:', disabled=False)\n",
    "node_cost = widgets.FloatText(value=0, description='Node Cost', disabled=False)\n",
    "\n",
    "\n",
    "items = widgets.VBox([current_nodes,current_rewards, current_price, daily_rewards, node_cost])\n",
    "children = [items]\n",
    "tab = widgets.Tab()\n",
    "tab.children = children\n",
    "tab.set_title(0, \"User Parameters\")\n",
    "tab"
   ]
  },
  {
   "cell_type": "markdown",
   "metadata": {},
   "source": [
    "### After entering your information in the correct format, click the \"Run calculation button\""
   ]
  },
  {
   "cell_type": "code",
   "execution_count": 4,
   "metadata": {},
   "outputs": [
    {
     "data": {
      "application/vnd.jupyter.widget-view+json": {
       "model_id": "bb6efecdb788428a9bab93bc928111b7",
       "version_major": 2,
       "version_minor": 0
      },
      "text/plain": [
       "VBox(children=(Button(description='Run Calculation', style=ButtonStyle()), Output()))"
      ]
     },
     "metadata": {},
     "output_type": "display_data"
    }
   ],
   "source": [
    "def on_calculate_click(_):\n",
    "    with out:\n",
    "        out.clear_output()\n",
    "        #Constants for use in calcualtions\n",
    "        NODE_COST = node_cost.value\n",
    "        REWARD_PER_NODE = daily_rewards.value\n",
    "        NODE_GOAL = 100\n",
    "        MONTH_DAYS = 30\n",
    "\n",
    "        #Number of days it takes to get to 100 nodes, increment this.\n",
    "        NUM_DAYS = 0\n",
    "\n",
    "        #User inputted values, consts for pretty output. \n",
    "        initial_nodes = current_nodes.value\n",
    "        initial_rewards = current_rewards.value\n",
    "\n",
    "        #Total values to be edited\n",
    "        total_nodes = current_nodes.value\n",
    "        total_rewards = current_rewards.value \n",
    "\n",
    "        #Price\n",
    "        price = current_price.value\n",
    "        total_usd_earned = 0.0\n",
    "\n",
    "        daily_list = []\n",
    "\n",
    "        while total_nodes < NODE_GOAL:\n",
    "            #Day starts, see if we can buy any. \n",
    "            nodes_gained = 0\n",
    "            if total_rewards >= NODE_COST:\n",
    "                while total_rewards >= NODE_COST:\n",
    "                    total_rewards = total_rewards - NODE_COST\n",
    "                    total_nodes = total_nodes + 1\n",
    "                    nodes_gained = nodes_gained + 1\n",
    "            \n",
    "            #Correct to 100 if we're over cap. \n",
    "            if total_nodes > NODE_GOAL:\n",
    "                total_nodes = NODE_GOAL\n",
    "\n",
    "            #After we spend the money, calculate daily earnings\n",
    "            total_rewards = total_rewards + (REWARD_PER_NODE * total_nodes)\n",
    "            daily_usd_earned = total_nodes * REWARD_PER_NODE * price\n",
    "            total_usd_earned = round((total_usd_earned + daily_usd_earned), 2)\n",
    "            NUM_DAYS = NUM_DAYS + 1\n",
    "            daily_list.append([NUM_DAYS, total_nodes, total_rewards, nodes_gained, total_usd_earned])        \n",
    "    \n",
    "        print(\"Starting with\", initial_nodes, \"nodes and\", initial_rewards, \"rewards it will take\", NUM_DAYS, \"days to reach 100 nodes.\")\n",
    "        print(\"You will have earned a total of $\", round(total_usd_earned, 2), \"in this time.\")\n",
    "        df = pd.DataFrame(daily_list, columns=['Day', 'Nodes', 'Rewards', 'Nodes Gained', '$USD'])\n",
    "        print(df.head(60).to_string(index=False))\n",
    "\n",
    "button = widgets.Button(description = \"Run Calculation\")\n",
    "out = widgets.Output()\n",
    "button.on_click(on_calculate_click)\n",
    "widgets.VBox([button, out])\n"
   ]
  }
 ],
 "metadata": {
  "interpreter": {
   "hash": "1baa965d5efe3ac65b79dfc60c0d706280b1da80fedb7760faf2759126c4f253"
  },
  "kernelspec": {
   "display_name": "Python 3.8.10 64-bit",
   "language": "python",
   "name": "python3"
  },
  "language_info": {
   "codemirror_mode": {
    "name": "ipython",
    "version": 3
   },
   "file_extension": ".py",
   "mimetype": "text/x-python",
   "name": "python",
   "nbconvert_exporter": "python",
   "pygments_lexer": "ipython3",
   "version": "3.8.10"
  },
  "orig_nbformat": 4
 },
 "nbformat": 4,
 "nbformat_minor": 2
}
